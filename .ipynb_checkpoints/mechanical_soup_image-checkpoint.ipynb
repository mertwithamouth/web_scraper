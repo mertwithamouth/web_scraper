{
 "cells": [
  {
   "cell_type": "code",
   "execution_count": 28,
   "metadata": {},
   "outputs": [
    {
     "data": {
      "text/plain": [
       "<Response [200]>"
      ]
     },
     "execution_count": 28,
     "metadata": {},
     "output_type": "execute_result"
    }
   ],
   "source": [
    "import mechanicalsoup\n",
    "\n",
    "browser= mechanicalsoup.StatefulBrowser()\n",
    "url=\"https://images.google.com/imghp?hl=en&gl=ar&gws_rd=ssl\"\n",
    "\n",
    "browser.open(url)"
   ]
  },
  {
   "cell_type": "code",
   "execution_count": 29,
   "metadata": {},
   "outputs": [
    {
     "name": "stdout",
     "output_type": "stream",
     "text": [
      "<input name=\"tbm\" type=\"hidden\" value=\"isch\"/>\n",
      "<input name=\"ie\" type=\"hidden\" value=\"ISO-8859-1\"/>\n",
      "<input name=\"hl\" type=\"hidden\" value=\"en-AR\"/>\n",
      "<input name=\"source\" type=\"hidden\" value=\"hp\"/>\n",
      "<input name=\"biw\" type=\"hidden\"/>\n",
      "<input name=\"bih\" type=\"hidden\"/>\n",
      "<input autocomplete=\"off\" class=\"lst\" maxlength=\"2048\" name=\"q\" size=\"57\" style=\"margin:0;padding:5px 8px 0 6px;vertical-align:top;color:#000\" title=\"Search Images\" value=\"\"/>\n",
      "<input class=\"lsb\" name=\"btnG\" type=\"submit\" value=\"Search Images\"/>\n",
      "<input id=\"gbv\" name=\"gbv\" type=\"hidden\" value=\"1\"/>\n",
      "What do you want?: post apocalyptic world concept art\n"
     ]
    }
   ],
   "source": [
    "browser.get_current_page()\n",
    "\n",
    "browser.select_form()\n",
    "browser.get_current_form().print_summary()\n",
    "\n",
    "search_form=input(\"What do you want?: \")"
   ]
  },
  {
   "cell_type": "code",
   "execution_count": 30,
   "metadata": {},
   "outputs": [
    {
     "name": "stdout",
     "output_type": "stream",
     "text": [
      "new url: https://www.google.com/search?tbm=isch&ie=ISO-8859-1&hl=en-AR&source=hp&biw=&bih=&q=post+apocalyptic+world+concept+art&btnG=Search+Images&gbv=1\n",
      "response: \n",
      " <!DOCTYPE html PUBLIC \"-//WAPFORUM//DTD XHTML Mobile 1.0//EN\" \"http://www.wapforum.org/DTD/xhtml-mobile10.dtd\"><html xmlns=\"http://www.w3.org/1999/xhtml\" lang=\"en-TR\"><head><meta content=\"application/xhtml+xml; charset=UTF-8\" http-equiv=\"Content-Type\"/><meta content=\"no-cache\" name=\"Cache-Control\"/><title>post apocalyptic world concept art - Google Search</title><style>a{text-decoration:none;color:inherit}a:hover{text-decoration:underline}a img{border:0}body{font-family:Roboto,Helvetica,Arial,sa\n"
     ]
    }
   ],
   "source": [
    "\n",
    "browser[\"q\"]=search_form\n",
    "\n",
    "browser.launch_browser()\n",
    "response=browser.submit_selected()\n",
    "\n",
    "print(\"new url:\",browser.get_url())\n",
    "print(\"response: \\n\", response.text[:500])"
   ]
  },
  {
   "cell_type": "code",
   "execution_count": 31,
   "metadata": {},
   "outputs": [],
   "source": [
    "new_url=browser.get_url()\n",
    "browser.open(new_url)\n",
    "\n",
    "page=browser.get_current_page()\n",
    "all_images=page.find_all(\"img\")\n",
    "\n",
    "image_source=[]\n",
    "for image in all_images:\n",
    "    image=image.get(\"src\")\n",
    "    image_source.append(image)"
   ]
  },
  {
   "cell_type": "code",
   "execution_count": 32,
   "metadata": {},
   "outputs": [
    {
     "data": {
      "text/plain": [
       "['/images/branding/searchlogo/1x/googlelogo_desk_heirloom_color_150x55dp.gif',\n",
       " 'https://encrypted-tbn0.gstatic.com/images?q=tbn:ANd9GcS0qgu1RE-J7wz5XouP-O9uyjMVknzdm6SX8XSvh6AlSA8RIIiKIQfnBu9oHA&s',\n",
       " 'https://encrypted-tbn0.gstatic.com/images?q=tbn:ANd9GcSKGsI4IxdZvJthnooQZozoZj505LYhkAA9mikd-EnLvhyo7jA5TghFIviTQgM&s',\n",
       " 'https://encrypted-tbn0.gstatic.com/images?q=tbn:ANd9GcRP94cmoF-lsKsv_w2U7el4m2rzHRjIjLUSCa_-WJEEkOyqjM51RCnsnMjqdnM&s',\n",
       " 'https://encrypted-tbn0.gstatic.com/images?q=tbn:ANd9GcRCw_-fktMLhyn19mHopDpM7E5P7_8oCtyR-uJZIH96x1r6fG63Hsi8cQ6SXIQ&s',\n",
       " 'https://encrypted-tbn0.gstatic.com/images?q=tbn:ANd9GcSsc9o1LUqV2RJG8Ai1k3X3xsAj6GRK8HQH7AkRM6KJ1ExPiBdVZWB3gZjvHEo&s',\n",
       " 'https://encrypted-tbn0.gstatic.com/images?q=tbn:ANd9GcRcJrhtSD3mcGm_NYEuVNB1vUFmj8Zf9RLW4r4Jm2h9XkdqWlA5P356bJWx9w&s',\n",
       " 'https://encrypted-tbn0.gstatic.com/images?q=tbn:ANd9GcQv4XBG2Z7oQCS59SQJUMdUeLl1g0GoS72atTCjHDum1l3dBQl5dN3XUow2Bg&s',\n",
       " 'https://encrypted-tbn0.gstatic.com/images?q=tbn:ANd9GcQrhtcuSzuEYK7x6cWIxNd1gFbS7VJ5H0Z9FlEHGteH0QdZ8dX9Oa0hwLp4Aw&s',\n",
       " 'https://encrypted-tbn0.gstatic.com/images?q=tbn:ANd9GcQM9AwW_d_uFXlqtjkTfp3bEm9Yq_hP-zVnhpR1PLZa4m4zNBrLb95hlIDUK30&s',\n",
       " 'https://encrypted-tbn0.gstatic.com/images?q=tbn:ANd9GcRVCPJAqOCJB6FrqpdUijndPMZX_Wx_IRuvDbXCfsVO3c8V4ZonB823YWrAqiw&s',\n",
       " 'https://encrypted-tbn0.gstatic.com/images?q=tbn:ANd9GcSN2aAcCgGn-omlJ4U0hFZE6vADE-Uy5WHFOabR41u1gqT7OyWBXbx8sX4WonE&s',\n",
       " 'https://encrypted-tbn0.gstatic.com/images?q=tbn:ANd9GcSdIu588OAkhY76bQ5vgNUlZ3Ika0PPYHnzKAARagAEIbwvk16BDrVYrWsCJhE&s',\n",
       " 'https://encrypted-tbn0.gstatic.com/images?q=tbn:ANd9GcRiCZHR9BqdPsoE5hpJygBP2LfJ0wSy1krvNWSXi7kBbiR8gbjA4K1zoShjHg&s',\n",
       " 'https://encrypted-tbn0.gstatic.com/images?q=tbn:ANd9GcRyBK4ajLpVKazeKiWy4mUwtPsBG5D8qKI-KEkGNeMSAxLj05oHOckSbUzKJo0&s',\n",
       " 'https://encrypted-tbn0.gstatic.com/images?q=tbn:ANd9GcQUBPdpa3JbWNBhBuE2pj0zvocij5Lc_Ga4CjzVUoXVw9YG_Rhiz5wJsf9y4Q&s',\n",
       " 'https://encrypted-tbn0.gstatic.com/images?q=tbn:ANd9GcQFCz6LOIUuMYln5kg4Mhm0WP_AStsBcLWqjS7V4KIDN9p3SfPnNaHHlaHYiA&s',\n",
       " 'https://encrypted-tbn0.gstatic.com/images?q=tbn:ANd9GcSGqzeSCP_TieYDBEkrt0bVT9LKviHoeoTlXHGBvRG2Z41DqYUEwDLUo2qUG5A&s',\n",
       " 'https://encrypted-tbn0.gstatic.com/images?q=tbn:ANd9GcS7aUphdtX_mgkx8A7kD3cmSpKrX0qRWBB9ozAqozdOOO76xcZdKHP10z_t7g&s',\n",
       " 'https://encrypted-tbn0.gstatic.com/images?q=tbn:ANd9GcSee2mZEj5y7exL663E6i7nzZv3GN0fSbKA5gM1TgIN9w4JDi2OCsqNRCpRVSg&s',\n",
       " 'https://encrypted-tbn0.gstatic.com/images?q=tbn:ANd9GcT_aGt6-PQu7oQj1eF8tt-i5nbKIhQG5lVOIO0f1Noqkl0pjfUrQvHcm1oXBQ&s']"
      ]
     },
     "execution_count": 32,
     "metadata": {},
     "output_type": "execute_result"
    }
   ],
   "source": [
    "image_source"
   ]
  },
  {
   "cell_type": "code",
   "execution_count": null,
   "metadata": {},
   "outputs": [],
   "source": []
  }
 ],
 "metadata": {
  "kernelspec": {
   "display_name": "Python 3",
   "language": "python",
   "name": "python3"
  },
  "language_info": {
   "codemirror_mode": {
    "name": "ipython",
    "version": 3
   },
   "file_extension": ".py",
   "mimetype": "text/x-python",
   "name": "python",
   "nbconvert_exporter": "python",
   "pygments_lexer": "ipython3",
   "version": "3.8.5"
  }
 },
 "nbformat": 4,
 "nbformat_minor": 4
}
