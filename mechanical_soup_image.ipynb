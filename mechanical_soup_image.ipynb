{
 "cells": [
  {
   "cell_type": "code",
   "execution_count": 38,
   "metadata": {},
   "outputs": [
    {
     "name": "stdout",
     "output_type": "stream",
     "text": [
      "<input name=\"tbm\" type=\"hidden\" value=\"isch\"/>\n",
      "<input name=\"ie\" type=\"hidden\" value=\"ISO-8859-1\"/>\n",
      "<input name=\"hl\" type=\"hidden\" value=\"en-AR\"/>\n",
      "<input name=\"source\" type=\"hidden\" value=\"hp\"/>\n",
      "<input name=\"biw\" type=\"hidden\"/>\n",
      "<input name=\"bih\" type=\"hidden\"/>\n",
      "<input autocomplete=\"off\" class=\"lst\" maxlength=\"2048\" name=\"q\" size=\"57\" style=\"margin:0;padding:5px 8px 0 6px;vertical-align:top;color:#000\" title=\"Search Images\" value=\"\"/>\n",
      "<input class=\"lsb\" name=\"btnG\" type=\"submit\" value=\"Search Images\"/>\n",
      "<input id=\"gbv\" name=\"gbv\" type=\"hidden\" value=\"1\"/>\n",
      "What do you want?: mert akin\n",
      "new url: https://www.google.com/search?tbm=isch&ie=ISO-8859-1&hl=en-AR&source=hp&biw=&bih=&q=mert+akin&btnG=Search+Images&gbv=1\n",
      "response: \n",
      " <!DOCTYPE html PUBLIC \"-//WAPFORUM//DTD XHTML Mobile 1.0//EN\" \"http://www.wapforum.org/DTD/xhtml-mobile10.dtd\"><html xmlns=\"http://www.w3.org/1999/xhtml\" lang=\"en-TR\"><head><meta content=\"application/xhtml+xml; charset=UTF-8\" http-equiv=\"Content-Type\"/><meta content=\"no-cache\" name=\"Cache-Control\"/><title>mert akin - Google Search</title><style>a{text-decoration:none;color:inherit}a:hover{text-decoration:underline}a img{border:0}body{font-family:Roboto,Helvetica,Arial,sans-serif;padding:8px;marg\n"
     ]
    }
   ],
   "source": [
    "import mechanicalsoup\n",
    "import os\n",
    "import wget\n",
    "\n",
    "\n",
    "browser= mechanicalsoup.StatefulBrowser()\n",
    "url=\"https://images.google.com/imghp?hl=en&gl=ar&gws_rd=ssl\"\n",
    "\n",
    "browser.open(url)\n",
    "\n",
    "browser.get_current_page()\n",
    "\n",
    "browser.select_form()\n",
    "browser.get_current_form().print_summary()\n",
    "\n",
    "search_term=input(\"What do you want?: \")\n",
    "\n",
    "\n",
    "browser[\"q\"]=search_term\n",
    "\n",
    "browser.launch_browser()\n",
    "response=browser.submit_selected()\n",
    "\n",
    "print(\"new url:\",browser.get_url())\n",
    "print(\"response: \\n\", response.text[:500])\n",
    "\n",
    "new_url=browser.get_url()\n",
    "browser.open(new_url)\n",
    "\n",
    "page=browser.get_current_page()\n",
    "all_images=page.find_all(\"img\")\n",
    "\n",
    "image_source=[]\n",
    "for image in all_images:\n",
    "    image=image.get(\"src\")\n",
    "    image_source.append(image)\n",
    "\n",
    "image_source=[image for image in image_source if image.startswith(\"https\")]\n",
    "\n",
    "image_source\n",
    "\n",
    "path=os.getcwd()\n",
    "path=os.path.join(path,search_term+\"s\")\n",
    "os.mkdir(path)\n",
    "\n",
    "counter=0\n",
    "for image in image_source:\n",
    "    save_as=os.path.join(path, search_term+str(counter)+\".jpg\")\n",
    "    wget.download(image,save_as)\n",
    "    counter+=1"
   ]
  },
  {
   "cell_type": "code",
   "execution_count": null,
   "metadata": {},
   "outputs": [],
   "source": []
  }
 ],
 "metadata": {
  "kernelspec": {
   "display_name": "Python 3",
   "language": "python",
   "name": "python3"
  },
  "language_info": {
   "codemirror_mode": {
    "name": "ipython",
    "version": 3
   },
   "file_extension": ".py",
   "mimetype": "text/x-python",
   "name": "python",
   "nbconvert_exporter": "python",
   "pygments_lexer": "ipython3",
   "version": "3.8.5"
  }
 },
 "nbformat": 4,
 "nbformat_minor": 4
}
